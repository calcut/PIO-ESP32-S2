{
 "cells": [
  {
   "cell_type": "code",
   "execution_count": 2,
   "metadata": {},
   "outputs": [],
   "source": [
    "import numpy as np\n",
    "from obspy import UTCDateTime, read, Trace, Stream\n",
    "import struct\n"
   ]
  },
  {
   "cell_type": "code",
   "execution_count": 56,
   "metadata": {},
   "outputs": [
    {
     "name": "stdout",
     "output_type": "stream",
     "text": [
      "time_diff=1e-06\n"
     ]
    },
    {
     "data": {
      "text/plain": [
       "         network: BW\n",
       "         station: RJOB\n",
       "        location: \n",
       "         channel: WLZ\n",
       "       starttime: 2023-02-06T16:18:12.483676Z\n",
       "         endtime: 2023-02-06T16:18:27.103778Z\n",
       "   sampling_rate: 267.0979919433594\n",
       "           delta: 0.0037439442832354177\n",
       "            npts: 3906\n",
       "           calib: 1.0\n",
       "         _format: MSEED\n",
       "           mseed: AttribDict({'dataquality': 'D', 'number_of_records': 8, 'encoding': 'FLOAT64', 'byteorder': '>', 'record_length': 4096, 'filesize': 65536})"
      ]
     },
     "execution_count": 56,
     "metadata": {},
     "output_type": "execute_result"
    }
   ],
   "source": [
    "def parse_hexstring_file(path):\n",
    "    s0 = np.array([], dtype=np.dtype(\"f\"))\n",
    "    s1 = np.array([], dtype=np.dtype(\"f\"))\n",
    "    s2 = np.array([], dtype=np.dtype(\"f\"))\n",
    "    stamps = np.array([], dtype=np.dtype(\"f\"))\n",
    "\n",
    "    with open(path, \"r\") as f:\n",
    "        for line in f:\n",
    "            # print(f'{line[0:8]+line[9:17]+line[18:26]=}')\n",
    "            data_bytes = bytes.fromhex(line[0:8]+line[9:17]+line[18:26])\n",
    "            stamp = float(f\"{line[27:37]}.{line[38:45]}\")\n",
    "            dec = struct.unpack(\">iii\", data_bytes)\n",
    "            s0 = np.append(s0, dec[0])\n",
    "            s1 = np.append(s1, dec[1])\n",
    "            s2 = np.append(s2, dec[2])\n",
    "            stamps = np.append(stamps, stamp)\n",
    "        return (s0, s1, s2, stamps)\n",
    "\n",
    "\n",
    "\n",
    "path_in = \"./Received/dataA.txt\"\n",
    "path_out = \"/Users/calum/test.mseed\"\n",
    "\n",
    "s0, s1, s2, stamps = parse_hexstring_file(path_in) \n",
    "\n",
    "end = UTCDateTime(stamps[-1])\n",
    "start = UTCDateTime(stamps[0])\n",
    "\n",
    "elapsed = end - start\n",
    "npts = len(s0)\n",
    "freq = 1/(elapsed/(npts-1))\n",
    "\n",
    "# Fill header attributes\n",
    "stats = {'network': 'BW', 'station': 'RJOB', 'location': '',\n",
    "         'channel': 'WLZ', 'npts': len(s0), 'sampling_rate': freq,\n",
    "         'mseed': {'dataquality': 'D'}}\n",
    "\n",
    "\n",
    "\n",
    "stats['starttime'] = UTCDateTime(stamps[0])\n",
    "st = Stream([Trace(data=s0, header=stats), Trace(data=s1, header=stats)])\n",
    "\n",
    "st.write(path_out, format='MSEED')\n",
    "\n",
    "\n",
    "st1 = read(path_out)\n",
    "time_diff = st1[0].stats[\"endtime\"] - end\n",
    "print(f'{time_diff=}')\n",
    "\n",
    "st1[0].stats"
   ]
  },
  {
   "cell_type": "code",
   "execution_count": 68,
   "metadata": {},
   "outputs": [
    {
     "name": "stdout",
     "output_type": "stream",
     "text": [
      "Source            Last Sample                 Next Sample                 Delta           Samples \n",
      "Total: 0 gap(s) and 0 overlap(s)\n",
      "st1.print_gaps()=None\n",
      "3 Trace(s) in Stream:\n",
      "BW.RJOB..CH0 | 2023-02-06T16:38:21.187710Z - 2023-02-07T09:26:15.803710Z | 250.0 Hz, 15118655 samples\n",
      "BW.RJOB..CH1 | 2023-02-06T16:38:21.187710Z - 2023-02-07T09:26:15.803710Z | 250.0 Hz, 15118655 samples\n",
      "BW.RJOB..CH2 | 2023-02-06T16:38:21.187710Z - 2023-02-07T09:26:15.803710Z | 250.0 Hz, 15118655 samples\n"
     ]
    }
   ],
   "source": [
    "st1 = read(\"/Users/calum/dataA.mseed\")\n",
    "print(f'{st1.print_gaps()=}')"
   ]
  },
  {
   "cell_type": "code",
   "execution_count": 78,
   "metadata": {},
   "outputs": [
    {
     "name": "stdout",
     "output_type": "stream",
     "text": [
      "UTCDateTime(stamp0)=UTCDateTime(2023, 2, 7, 9, 30, 3, 956550)\n",
      "UTCDateTime(stamp)=UTCDateTime(2023, 2, 7, 9, 30, 24, 764676)\n",
      "UTCDateTime(stamp2)=UTCDateTime(2023, 2, 7, 9, 30, 24, 768676)\n",
      "d=20.808126211166382\n",
      "t0=UTCDateTime(2023, 2, 7, 9, 30, 3, 956550)\n",
      "t1=UTCDateTime(2023, 2, 7, 9, 30, 24, 764676)\n",
      "t1-t0=20.808126\n",
      "elapsed=20.808126\n",
      "expected=19.812\n"
     ]
    },
    {
     "data": {
      "text/plain": [
       "2023-02-07T09:30:23.768550Z"
      ]
     },
     "execution_count": 78,
     "metadata": {},
     "output_type": "execute_result"
    }
   ],
   "source": [
    "line0 = \"978DB451 FFFFF26F FFFFE42B 1675762203.956550 4003 5540 951010 1073913914\"\n",
    "line = \"97D1E31F FFFFF861 FFFFE751 1675762224.764676 3999 5666 759010 1073913914\"\n",
    "line2 = \"983818B3 FFFFE653 FFFFDD29 1675762224.768676 4000 5666 763010 0\"\n",
    "\n",
    "stamp0 = float(f\"{line0[27:37]}.{line0[38:45]}\")\n",
    "stamp = float(f\"{line[27:37]}.{line[38:45]}\")\n",
    "stamp2 = float(f\"{line2[27:37]}.{line2[38:45]}\")\n",
    "\n",
    "print(f'{UTCDateTime(stamp0)=}') \n",
    "print(f'{UTCDateTime(stamp)=}') \n",
    "print(f'{UTCDateTime(stamp2)=}') \n",
    "\n",
    "d = 1675762224.764676 - 1675762203.956550\n",
    "print(f'{d=}')\n",
    "\n",
    "t0 = UTCDateTime(stamp0)\n",
    "t1 = UTCDateTime(stamp)\n",
    "print(f'{t0=}')\n",
    "print(f'{t1=}')\n",
    "print(f'{t1-t0=}')\n",
    "elapsed = UTCDateTime(stamp) - UTCDateTime(stamp0)\n",
    "print(f'{elapsed=}')\n",
    "expected = 0.004 * 4953\n",
    "print(f'{expected=}')\n",
    "\n",
    "UTCDateTime(\"2023-02-07T09:30:03.956550Z\") + 19.812"
   ]
  },
  {
   "cell_type": "code",
   "execution_count": 9,
   "metadata": {},
   "outputs": [
    {
     "name": "stderr",
     "output_type": "stream",
     "text": [
      "/var/folders/6h/wrjpjjpx0_9chw21zdnrp6lw0000gn/T/ipykernel_45327/1622653373.py:17: DeprecationWarning: The binary mode of fromstring is deprecated, as it behaves surprisingly on unicode inputs. Use frombuffer instead\n",
      "  data_np = np.fromstring(data, dtype='|S1')\n"
     ]
    }
   ],
   "source": [
    "# with open(path, \"r\") as f:\n",
    "#     data = f.readlines()\n",
    "\n",
    "\n",
    "data = \"\"\"\n",
    "00.0000 0.0 ??? 4.7 97.7 1015.0 0.0 010308 000000\n",
    "00.0002 0.0 ??? 4.7 97.7 1015.0 0.0 010308 000001\n",
    "00.0005 0.0 ??? 4.7 97.7 1015.0 0.0 010308 000002\n",
    "00.0008 0.0 ??? 4.7 97.7 1015.4 0.0 010308 000003\n",
    "00.0011 0.0 ??? 4.7 97.7 1015.0 0.0 010308 000004\n",
    "00.0013 0.0 ??? 4.7 97.7 1015.0 0.0 010308 000005\n",
    "00.0016 0.0 ??? 4.7 97.7 1015.0 0.0 010308 000006\n",
    "00.0019 0.0 ??? 4.7 97.7 1015.0 0.0 010308 000007\n",
    "\"\"\"\n",
    "\n",
    "\n",
    "data_np = np.fromstring(data, dtype='|S1')\n",
    "\n",
    "# Fill header attributes\n",
    "stats = {'network': 'BW', 'station': 'RJOB', 'location': '',\n",
    "         'channel': 'WLZ', 'npts': len(data), 'sampling_rate': 0.1,\n",
    "         'mseed': {'dataquality': 'D'}}\n",
    "\n",
    "\n",
    "stats['starttime'] = UTCDateTime()\n",
    "st = Stream([Trace(data=data_np, header=stats)])\n",
    "\n",
    "st.write(\"test.mseed\", format='MSEED', encoding=0, reclen=256)\n",
    "\n"
   ]
  },
  {
   "cell_type": "code",
   "execution_count": 16,
   "metadata": {},
   "outputs": [
    {
     "data": {
      "text/plain": [
       "         network: BW\n",
       "         station: RJOB\n",
       "        location: \n",
       "         channel: WLZ\n",
       "       starttime: 2023-02-03T14:05:12.660394Z\n",
       "         endtime: 2023-02-03T15:11:52.660394Z\n",
       "   sampling_rate: 0.1\n",
       "           delta: 10.0\n",
       "            npts: 401\n",
       "           calib: 1.0\n",
       "         _format: MSEED\n",
       "           mseed: AttribDict({'dataquality': 'D', 'number_of_records': 3, 'encoding': 'ASCII', 'byteorder': '>', 'record_length': 256, 'filesize': 768})"
      ]
     },
     "execution_count": 16,
     "metadata": {},
     "output_type": "execute_result"
    }
   ],
   "source": [
    "st1 = read(\"test.mseed\")\n",
    "st1[0].stats"
   ]
  }
 ],
 "metadata": {
  "kernelspec": {
   "display_name": "Python 3",
   "language": "python",
   "name": "python3"
  },
  "language_info": {
   "codemirror_mode": {
    "name": "ipython",
    "version": 3
   },
   "file_extension": ".py",
   "mimetype": "text/x-python",
   "name": "python",
   "nbconvert_exporter": "python",
   "pygments_lexer": "ipython3",
   "version": "3.10.4"
  },
  "orig_nbformat": 4,
  "vscode": {
   "interpreter": {
    "hash": "b8061ab180e37bdb16fd7e53a25772861688ca0be99d4155c3db5c77ff17811a"
   }
  }
 },
 "nbformat": 4,
 "nbformat_minor": 2
}
