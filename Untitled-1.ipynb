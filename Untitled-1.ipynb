{
 "cells": [
  {
   "cell_type": "code",
   "execution_count": 2,
   "metadata": {},
   "outputs": [],
   "source": [
    "import numpy as np\n",
    "from obspy import UTCDateTime, read, Trace, Stream\n",
    "import struct\n"
   ]
  },
  {
   "cell_type": "code",
   "execution_count": 56,
   "metadata": {},
   "outputs": [
    {
     "name": "stdout",
     "output_type": "stream",
     "text": [
      "time_diff=1e-06\n"
     ]
    },
    {
     "data": {
      "text/plain": [
       "         network: BW\n",
       "         station: RJOB\n",
       "        location: \n",
       "         channel: WLZ\n",
       "       starttime: 2023-02-06T16:18:12.483676Z\n",
       "         endtime: 2023-02-06T16:18:27.103778Z\n",
       "   sampling_rate: 267.0979919433594\n",
       "           delta: 0.0037439442832354177\n",
       "            npts: 3906\n",
       "           calib: 1.0\n",
       "         _format: MSEED\n",
       "           mseed: AttribDict({'dataquality': 'D', 'number_of_records': 8, 'encoding': 'FLOAT64', 'byteorder': '>', 'record_length': 4096, 'filesize': 65536})"
      ]
     },
     "execution_count": 56,
     "metadata": {},
     "output_type": "execute_result"
    }
   ],
   "source": [
    "def parse_hexstring_file(path):\n",
    "    s0 = np.array([], dtype=np.dtype(\"f\"))\n",
    "    s1 = np.array([], dtype=np.dtype(\"f\"))\n",
    "    s2 = np.array([], dtype=np.dtype(\"f\"))\n",
    "    stamps = np.array([], dtype=np.dtype(\"f\"))\n",
    "\n",
    "    with open(path, \"r\") as f:\n",
    "        for line in f:\n",
    "            # print(f'{line[0:8]+line[9:17]+line[18:26]=}')\n",
    "            data_bytes = bytes.fromhex(line[0:8]+line[9:17]+line[18:26])\n",
    "            stamp = float(f\"{line[27:37]}.{line[38:45]}\")\n",
    "            dec = struct.unpack(\">iii\", data_bytes)\n",
    "            s0 = np.append(s0, dec[0])\n",
    "            s1 = np.append(s1, dec[1])\n",
    "            s2 = np.append(s2, dec[2])\n",
    "            stamps = np.append(stamps, stamp)\n",
    "        return (s0, s1, s2, stamps)\n",
    "\n",
    "\n",
    "\n",
    "path_in = \"./Received/dataA.txt\"\n",
    "path_out = \"/Users/calum/test.mseed\"\n",
    "\n",
    "s0, s1, s2, stamps = parse_hexstring_file(path_in) \n",
    "\n",
    "end = UTCDateTime(stamps[-1])\n",
    "start = UTCDateTime(stamps[0])\n",
    "\n",
    "elapsed = end - start\n",
    "npts = len(s0)\n",
    "freq = 1/(elapsed/(npts-1))\n",
    "\n",
    "# Fill header attributes\n",
    "stats = {'network': 'BW', 'station': 'RJOB', 'location': '',\n",
    "         'channel': 'WLZ', 'npts': len(s0), 'sampling_rate': freq,\n",
    "         'mseed': {'dataquality': 'D'}}\n",
    "\n",
    "\n",
    "\n",
    "stats['starttime'] = UTCDateTime(stamps[0])\n",
    "st = Stream([Trace(data=s0, header=stats), Trace(data=s1, header=stats)])\n",
    "\n",
    "st.write(path_out, format='MSEED')\n",
    "\n",
    "\n",
    "st1 = read(path_out)\n",
    "time_diff = st1[0].stats[\"endtime\"] - end\n",
    "print(f'{time_diff=}')\n",
    "\n",
    "st1[0].stats"
   ]
  },
  {
   "cell_type": "code",
   "execution_count": 60,
   "metadata": {},
   "outputs": [
    {
     "ename": "FileNotFoundError",
     "evalue": "[Errno 2] No such file or directory: '/Users/calum/dataAa.mseed'",
     "output_type": "error",
     "traceback": [
      "\u001b[0;31m---------------------------------------------------------------------------\u001b[0m",
      "\u001b[0;31mFileNotFoundError\u001b[0m                         Traceback (most recent call last)",
      "\u001b[1;32m/Users/calum/Documents/PlatformIO/Projects/PIO-ESP32-S2/Untitled-1.ipynb Cell 3\u001b[0m in \u001b[0;36m<cell line: 1>\u001b[0;34m()\u001b[0m\n\u001b[0;32m----> <a href='vscode-notebook-cell:/Users/calum/Documents/PlatformIO/Projects/PIO-ESP32-S2/Untitled-1.ipynb#W2sZmlsZQ%3D%3D?line=0'>1</a>\u001b[0m st1 \u001b[39m=\u001b[39m read(\u001b[39m\"\u001b[39;49m\u001b[39m/Users/calum/dataAa.mseed\u001b[39;49m\u001b[39m\"\u001b[39;49m)\n\u001b[1;32m      <a href='vscode-notebook-cell:/Users/calum/Documents/PlatformIO/Projects/PIO-ESP32-S2/Untitled-1.ipynb#W2sZmlsZQ%3D%3D?line=1'>2</a>\u001b[0m st1[\u001b[39m0\u001b[39m]\u001b[39m.\u001b[39mstats\n",
      "File \u001b[0;32m~/.pyenv/versions/3.10.4/lib/python3.10/site-packages/decorator.py:232\u001b[0m, in \u001b[0;36mdecorate.<locals>.fun\u001b[0;34m(*args, **kw)\u001b[0m\n\u001b[1;32m    230\u001b[0m \u001b[39mif\u001b[39;00m \u001b[39mnot\u001b[39;00m kwsyntax:\n\u001b[1;32m    231\u001b[0m     args, kw \u001b[39m=\u001b[39m fix(args, kw, sig)\n\u001b[0;32m--> 232\u001b[0m \u001b[39mreturn\u001b[39;00m caller(func, \u001b[39m*\u001b[39;49m(extras \u001b[39m+\u001b[39;49m args), \u001b[39m*\u001b[39;49m\u001b[39m*\u001b[39;49mkw)\n",
      "File \u001b[0;32m~/.pyenv/versions/3.10.4/lib/python3.10/site-packages/obspy/core/util/decorator.py:297\u001b[0m, in \u001b[0;36mmap_example_filename.<locals>._map_example_filename\u001b[0;34m(func, *args, **kwargs)\u001b[0m\n\u001b[1;32m    295\u001b[0m                 \u001b[39mexcept\u001b[39;00m \u001b[39mIOError\u001b[39;00m:\n\u001b[1;32m    296\u001b[0m                     \u001b[39mpass\u001b[39;00m\n\u001b[0;32m--> 297\u001b[0m \u001b[39mreturn\u001b[39;00m func(\u001b[39m*\u001b[39;49margs, \u001b[39m*\u001b[39;49m\u001b[39m*\u001b[39;49mkwargs)\n",
      "File \u001b[0;32m~/.pyenv/versions/3.10.4/lib/python3.10/site-packages/obspy/core/stream.py:208\u001b[0m, in \u001b[0;36mread\u001b[0;34m(pathname_or_url, format, headonly, starttime, endtime, nearest_sample, dtype, apply_calib, check_compression, **kwargs)\u001b[0m\n\u001b[1;32m    206\u001b[0m     st \u001b[39m=\u001b[39m _create_example_stream(headonly\u001b[39m=\u001b[39mheadonly)\n\u001b[1;32m    207\u001b[0m \u001b[39melse\u001b[39;00m:\n\u001b[0;32m--> 208\u001b[0m     st \u001b[39m=\u001b[39m _generic_reader(pathname_or_url, _read, \u001b[39m*\u001b[39;49m\u001b[39m*\u001b[39;49mkwargs)\n\u001b[1;32m    210\u001b[0m \u001b[39mif\u001b[39;00m \u001b[39mlen\u001b[39m(st) \u001b[39m==\u001b[39m \u001b[39m0\u001b[39m:\n\u001b[1;32m    211\u001b[0m     \u001b[39m# try to give more specific information why the stream is empty\u001b[39;00m\n\u001b[1;32m    212\u001b[0m     \u001b[39mif\u001b[39;00m has_magic(pathname_or_url) \u001b[39mand\u001b[39;00m \u001b[39mnot\u001b[39;00m glob(pathname_or_url):\n",
      "File \u001b[0;32m~/.pyenv/versions/3.10.4/lib/python3.10/site-packages/obspy/core/util/base.py:656\u001b[0m, in \u001b[0;36m_generic_reader\u001b[0;34m(pathname_or_url, callback_func, **kwargs)\u001b[0m\n\u001b[1;32m    654\u001b[0m         \u001b[39mraise\u001b[39;00m \u001b[39mException\u001b[39;00m(\u001b[39m\"\u001b[39m\u001b[39mNo file matching file pattern: \u001b[39m\u001b[39m%s\u001b[39;00m\u001b[39m\"\u001b[39m \u001b[39m%\u001b[39m pathname)\n\u001b[1;32m    655\u001b[0m     \u001b[39melif\u001b[39;00m \u001b[39mnot\u001b[39;00m glob\u001b[39m.\u001b[39mhas_magic(pathname) \u001b[39mand\u001b[39;00m \u001b[39mnot\u001b[39;00m Path(pathname)\u001b[39m.\u001b[39mis_file():\n\u001b[0;32m--> 656\u001b[0m         \u001b[39mraise\u001b[39;00m \u001b[39mIOError\u001b[39;00m(\u001b[39m2\u001b[39m, \u001b[39m\"\u001b[39m\u001b[39mNo such file or directory\u001b[39m\u001b[39m\"\u001b[39m, pathname)\n\u001b[1;32m    658\u001b[0m generic \u001b[39m=\u001b[39m callback_func(pathnames[\u001b[39m0\u001b[39m], \u001b[39m*\u001b[39m\u001b[39m*\u001b[39mkwargs)\n\u001b[1;32m    659\u001b[0m \u001b[39mif\u001b[39;00m \u001b[39mlen\u001b[39m(pathnames) \u001b[39m>\u001b[39m \u001b[39m1\u001b[39m:\n",
      "\u001b[0;31mFileNotFoundError\u001b[0m: [Errno 2] No such file or directory: '/Users/calum/dataAa.mseed'"
     ]
    }
   ],
   "source": [
    "st1 = read(\"/Users/calum/dataAa.mseed\")\n",
    "st1[0].stats"
   ]
  },
  {
   "cell_type": "code",
   "execution_count": 9,
   "metadata": {},
   "outputs": [
    {
     "name": "stderr",
     "output_type": "stream",
     "text": [
      "/var/folders/6h/wrjpjjpx0_9chw21zdnrp6lw0000gn/T/ipykernel_45327/1622653373.py:17: DeprecationWarning: The binary mode of fromstring is deprecated, as it behaves surprisingly on unicode inputs. Use frombuffer instead\n",
      "  data_np = np.fromstring(data, dtype='|S1')\n"
     ]
    }
   ],
   "source": [
    "# with open(path, \"r\") as f:\n",
    "#     data = f.readlines()\n",
    "\n",
    "\n",
    "data = \"\"\"\n",
    "00.0000 0.0 ??? 4.7 97.7 1015.0 0.0 010308 000000\n",
    "00.0002 0.0 ??? 4.7 97.7 1015.0 0.0 010308 000001\n",
    "00.0005 0.0 ??? 4.7 97.7 1015.0 0.0 010308 000002\n",
    "00.0008 0.0 ??? 4.7 97.7 1015.4 0.0 010308 000003\n",
    "00.0011 0.0 ??? 4.7 97.7 1015.0 0.0 010308 000004\n",
    "00.0013 0.0 ??? 4.7 97.7 1015.0 0.0 010308 000005\n",
    "00.0016 0.0 ??? 4.7 97.7 1015.0 0.0 010308 000006\n",
    "00.0019 0.0 ??? 4.7 97.7 1015.0 0.0 010308 000007\n",
    "\"\"\"\n",
    "\n",
    "\n",
    "data_np = np.fromstring(data, dtype='|S1')\n",
    "\n",
    "# Fill header attributes\n",
    "stats = {'network': 'BW', 'station': 'RJOB', 'location': '',\n",
    "         'channel': 'WLZ', 'npts': len(data), 'sampling_rate': 0.1,\n",
    "         'mseed': {'dataquality': 'D'}}\n",
    "\n",
    "\n",
    "stats['starttime'] = UTCDateTime()\n",
    "st = Stream([Trace(data=data_np, header=stats)])\n",
    "\n",
    "st.write(\"test.mseed\", format='MSEED', encoding=0, reclen=256)\n",
    "\n"
   ]
  },
  {
   "cell_type": "code",
   "execution_count": 16,
   "metadata": {},
   "outputs": [
    {
     "data": {
      "text/plain": [
       "         network: BW\n",
       "         station: RJOB\n",
       "        location: \n",
       "         channel: WLZ\n",
       "       starttime: 2023-02-03T14:05:12.660394Z\n",
       "         endtime: 2023-02-03T15:11:52.660394Z\n",
       "   sampling_rate: 0.1\n",
       "           delta: 10.0\n",
       "            npts: 401\n",
       "           calib: 1.0\n",
       "         _format: MSEED\n",
       "           mseed: AttribDict({'dataquality': 'D', 'number_of_records': 3, 'encoding': 'ASCII', 'byteorder': '>', 'record_length': 256, 'filesize': 768})"
      ]
     },
     "execution_count": 16,
     "metadata": {},
     "output_type": "execute_result"
    }
   ],
   "source": [
    "st1 = read(\"test.mseed\")\n",
    "st1[0].stats"
   ]
  }
 ],
 "metadata": {
  "kernelspec": {
   "display_name": "Python 3",
   "language": "python",
   "name": "python3"
  },
  "language_info": {
   "codemirror_mode": {
    "name": "ipython",
    "version": 3
   },
   "file_extension": ".py",
   "mimetype": "text/x-python",
   "name": "python",
   "nbconvert_exporter": "python",
   "pygments_lexer": "ipython3",
   "version": "3.10.4"
  },
  "orig_nbformat": 4,
  "vscode": {
   "interpreter": {
    "hash": "b8061ab180e37bdb16fd7e53a25772861688ca0be99d4155c3db5c77ff17811a"
   }
  }
 },
 "nbformat": 4,
 "nbformat_minor": 2
}
